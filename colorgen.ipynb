{
 "cells": [
  {
   "cell_type": "code",
   "execution_count": 2,
   "metadata": {
    "ExecuteTime": {
     "end_time": "2018-11-07T18:17:01.421223Z",
     "start_time": "2018-11-07T18:16:59.852197Z"
    }
   },
   "outputs": [
    {
     "name": "stdout",
     "output_type": "stream",
     "text": [
      "Populating the interactive namespace from numpy and matplotlib\n"
     ]
    }
   ],
   "source": [
    "%pylab inline\n",
    "\n",
    "import seaborn as sns"
   ]
  },
  {
   "cell_type": "code",
   "execution_count": 3,
   "metadata": {
    "ExecuteTime": {
     "end_time": "2018-11-07T18:17:01.670531Z",
     "start_time": "2018-11-07T18:17:01.461999Z"
    }
   },
   "outputs": [
    {
     "data": {
      "image/png": "[encoded data removed]",
      "text/plain": [
       "<Figure size 504x72 with 1 Axes>"
      ]
     },
     "metadata": {},
     "output_type": "display_data"
    }
   ],
   "source": [
    "sns.palplot(sns.color_palette(\"coolwarm\", 7))"
   ]
  },
  {
   "cell_type": "code",
   "execution_count": 5,
   "metadata": {
    "ExecuteTime": {
     "end_time": "2018-11-07T18:17:58.522617Z",
     "start_time": "2018-11-07T18:17:58.516180Z"
    }
   },
   "outputs": [],
   "source": [
    "pallette = sns.color_palette(\"coolwarm\", 7)"
   ]
  },
  {
   "cell_type": "code",
   "execution_count": 6,
   "metadata": {
    "ExecuteTime": {
     "end_time": "2018-11-07T18:18:03.923774Z",
     "start_time": "2018-11-07T18:18:03.910175Z"
    }
   },
   "outputs": [
    {
     "data": {
      "text/plain": [
       "['#6282ea', '#8db0fe', '#b9d0f9', '#dddcdc', '#f5c4ac', '#f4987a', '#dd5f4b']"
      ]
     },
     "execution_count": 6,
     "metadata": {},
     "output_type": "execute_result"
    }
   ],
   "source": [
    "pallette.as_hex()"
   ]
  },
  {
   "cell_type": "code",
   "execution_count": 35,
   "metadata": {
    "ExecuteTime": {
     "end_time": "2018-11-07T20:22:10.168788Z",
     "start_time": "2018-11-07T20:22:10.004452Z"
    }
   },
   "outputs": [
    {
     "data": {
      "image/png": "[encoded data removed]",
      "text/plain": [
       "<Figure size 576x72 with 1 Axes>"
      ]
     },
     "metadata": {},
     "output_type": "display_data"
    }
   ],
   "source": [
    "classes = [\"Constant\", \"Log\", \"Linear\", \"Log-Linear\", \"Square\", \"Polynomial\", \"Exponential\", \"Factorial\"]\n",
    "n_classes = len(classes)\n",
    "pallette = sns.diverging_palette(130, 20, l=65,n=n_classes)\n",
    "sns.palplot(pallette)"
   ]
  },
  {
   "cell_type": "code",
   "execution_count": 36,
   "metadata": {
    "ExecuteTime": {
     "end_time": "2018-11-07T20:22:14.319708Z",
     "start_time": "2018-11-07T20:22:14.308744Z"
    }
   },
   "outputs": [
    {
     "name": "stdout",
     "output_type": "stream",
     "text": [
      "\n",
      ".constant {\n",
      "    background-color: #4db258\n",
      "}\n",
      ".log {\n",
      "    background-color: #7cc684\n",
      "}\n",
      ".linear {\n",
      "    background-color: #addbb2\n",
      "}\n",
      ".log-linear {\n",
      "    background-color: #dcf0de\n",
      "}\n",
      ".square {\n",
      "    background-color: #fbe0db\n",
      "}\n",
      ".polynomial {\n",
      "    background-color: #f6c0b5\n",
      "}\n",
      ".exponential {\n",
      "    background-color: #f19f8e\n",
      "}\n",
      ".factorial {\n",
      "    background-color: #ed7e69\n",
      "}\n"
     ]
    }
   ],
   "source": [
    "\n",
    "colors = pallette.as_hex()\n",
    "css = \"\"\n",
    "for i,c in enumerate(classes):\n",
    "    css += f\"\"\"\n",
    ".{c.lower()} {{\n",
    "    background-color: {colors[i]}\n",
    "}}\"\"\"\n",
    "print(css)"
   ]
  },
  {
   "cell_type": "code",
   "execution_count": null,
   "metadata": {},
   "outputs": [],
   "source": []
  }
 ],
 "metadata": {
  "kernelspec": {
   "display_name": "Python 3",
   "language": "python",
   "name": "python3"
  },
  "language_info": {
   "codemirror_mode": {
    "name": "ipython",
    "version": 3
   },
   "file_extension": ".py",
   "mimetype": "text/x-python",
   "name": "python",
   "nbconvert_exporter": "python",
   "pygments_lexer": "ipython3",
   "version": "3.6.5"
  },
  "toc": {
   "nav_menu": {},
   "number_sections": true,
   "sideBar": true,
   "skip_h1_title": false,
   "toc_cell": false,
   "toc_position": {},
   "toc_section_display": "block",
   "toc_window_display": false
  },
  "varInspector": {
   "cols": {
    "lenName": 16,
    "lenType": 16,
    "lenVar": 40
   },
   "kernels_config": {
    "python": {
     "delete_cmd_postfix": "",
     "delete_cmd_prefix": "del ",
     "library": "var_list.py",
     "varRefreshCmd": "print(var_dic_list())"
    },
    "r": {
     "delete_cmd_postfix": ") ",
     "delete_cmd_prefix": "rm(",
     "library": "var_list.r",
     "varRefreshCmd": "cat(var_dic_list()) "
    }
   },
   "types_to_exclude": [
    "module",
    "function",
    "builtin_function_or_method",
    "instance",
    "_Feature"
   ],
   "window_display": false
  }
 },
 "nbformat": 4,
 "nbformat_minor": 2
}
